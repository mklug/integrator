{
 "cells": [
  {
   "cell_type": "code",
   "execution_count": 13,
   "metadata": {},
   "outputs": [],
   "source": [
    "import numpy as np\n",
    "import matplotlib as plt\n",
    "from integrators import (euler, \n",
    "                        midpoint, \n",
    "                        leapfrog, \n",
    "                        find_zero, \n",
    "                        trapazoidal, \n",
    "                        backward_euler, \n",
    "                        y_midpoint)\n"
   ]
  },
  {
   "cell_type": "code",
   "execution_count": 14,
   "metadata": {},
   "outputs": [
    {
     "name": "stdout",
     "output_type": "stream",
     "text": [
      "1.414213562373095\n",
      "1.414213562373095\n",
      "1.4142135623730951\n"
     ]
    }
   ],
   "source": [
    "# Test of the Newton's method implementation.\n",
    "import math\n",
    "f = lambda t: (t**2 - 2)\n",
    "x0 = 1.0\n",
    "\n",
    "print(find_zero(f, x0, fprime=lambda t:2*t))\n",
    "print(find_zero(f, x0))\n",
    "print(math.sqrt(2))\n"
   ]
  },
  {
   "cell_type": "code",
   "execution_count": 32,
   "metadata": {},
   "outputs": [
    {
     "name": "stdout",
     "output_type": "stream",
     "text": [
      "euler: [1.0, 1.0, 1.0, 1.0, 1.0, 1.0, 1.0, 1.0, 1.0, 1.0, 1.0]\n",
      "midpoint: [1.0, 1.0, 1.0, 1.0, 1.0, 1.0, 1.0, 1.0, 1.0, 1.0, 1.0]\n",
      "leapfrog midpoint: [1.0, 1.0, 1.0, 1.0, 1.0, 1.0, 1.0, 1.0, 1.0, 1.0, 1.0]\n",
      "leapfrog euler: [1.0, 1.0, 1.0, 1.0, 1.0, 1.0, 1.0, 1.0, 1.0, 1.0, 1.0]\n",
      "leapfrog constant: [1.0, 1.0, 1.0, 1.0, 1.0, 1.0, 1.0, 1.0, 1.0, 1.0, 1.0]\n",
      "trapazoidal True: [1.0, 1.0, 1.0, 1.0, 1.0, 1.0, 1.0, 1.0, 1.0, 1.0, 1.0]\n",
      "trapazoidal False: [1.0, 1.0, 1.0, 1.0, 1.0, 1.0, 1.0, 1.0, 1.0, 1.0, 1.0]\n",
      "backward_euler: [1.0, 1.0, 1.0, 1.0, 1.0, 1.0, 1.0, 1.0, 1.0, 1.0, 1.0]\n",
      "y_midpoint: [1.0, 1.0, 1.0, 1.0, 1.0, 1.0, 1.0, 1.0, 1.0, 1.0, 1.0]\n"
     ]
    }
   ],
   "source": [
    "# Test on the constant function y' = 0, y0 = 1\n",
    "# Solution : y = 1\n",
    "f = lambda t,y: 0.0\n",
    "t_eval = np.linspace(0.0, 1.0, 11)\n",
    "y0 = 1.0\n",
    "\n",
    "method_extra_inputs = {trapazoidal : [True, False],\n",
    "                       leapfrog : ['midpoint', 'euler', 'constant']}\n",
    "\n",
    "methods = (euler, midpoint, leapfrog, trapazoidal, backward_euler, y_midpoint)\n",
    "\n",
    "def test_methods(f, t_eval, y0, y_exact=None):\n",
    "    input = (f, t_eval, y0)\n",
    "    for method in methods:\n",
    "        if method in method_extra_inputs:\n",
    "            for extra_input in method_extra_inputs[method]:\n",
    "                print(f'{method.__name__} {extra_input}: {method(*input, extra_input)}')\n",
    "        else:\n",
    "            print(f'{method.__name__}: {method(*input)}')\n",
    "    if y_exact is not None:\n",
    "        print(f'y_exact : {list(map(y_exact, t_eval))}')\n",
    "\n",
    "\n",
    "test_methods(f, t_eval, y0)\n"
   ]
  },
  {
   "cell_type": "code",
   "execution_count": 33,
   "metadata": {},
   "outputs": [
    {
     "name": "stdout",
     "output_type": "stream",
     "text": [
      "euler: [0.0, 0.1, 0.2, 0.30000000000000004, 0.4, 0.5, 0.6000000000000001, 0.7000000000000001, 0.8, 0.9, 1.0]\n",
      "midpoint: [0.0, 0.1, 0.2, 0.30000000000000004, 0.4, 0.5, 0.6000000000000001, 0.7000000000000001, 0.8, 0.9, 1.0]\n",
      "leapfrog midpoint: [0.0, 0.1, 0.2, 0.30000000000000004, 0.39999999999999997, 0.5, 0.6000000000000001, 0.7, 0.8, 0.8999999999999999, 1.0]\n",
      "leapfrog euler: [0.0, 0.1, 0.2, 0.30000000000000004, 0.39999999999999997, 0.5, 0.6000000000000001, 0.7, 0.8, 0.8999999999999999, 1.0]\n",
      "leapfrog constant: [0.0, 0.0, 0.2, 0.20000000000000007, 0.39999999999999997, 0.4, 0.6000000000000001, 0.6, 0.8, 0.7999999999999999, 1.0]\n",
      "trapazoidal True: [0.0, 0.1, 0.2, 0.30000000000000004, 0.4, 0.5, 0.6000000000000001, 0.7000000000000001, 0.8, 0.9, 1.0]\n",
      "trapazoidal False: [0.0, 0.1, 0.2, 0.30000000000000004, 0.4, 0.5, 0.6000000000000001, 0.7000000000000001, 0.8, 0.9, 1.0]\n",
      "backward_euler: [0.0, 0.1, 0.2, 0.30000000000000004, 0.4, 0.5, 0.6000000000000001, 0.7000000000000001, 0.8, 0.9, 1.0]\n",
      "y_midpoint: [0.0, 0.1, 0.2, 0.30000000000000004, 0.4, 0.5, 0.6000000000000001, 0.7000000000000001, 0.8, 0.9, 1.0]\n"
     ]
    }
   ],
   "source": [
    "# Test on the linear function y' = 1, y0 = 0\n",
    "# Solution : y = t\n",
    "f = lambda t,y: 1.0\n",
    "t_eval = np.linspace(0.0, 1.0, 11)\n",
    "y0 = 0.0\n",
    "\n",
    "test_methods(f, t_eval, y0)\n"
   ]
  },
  {
   "cell_type": "code",
   "execution_count": 34,
   "metadata": {},
   "outputs": [
    {
     "name": "stdout",
     "output_type": "stream",
     "text": [
      "euler: [0.0, 0.0, 2.0, 6.0, 12.0, 20.0, 30.0, 42.0, 56.0, 72.0, 90.0]\n",
      "midpoint: [0.0, 3.0, 8.0, 15.0, 24.0, 35.0, 48.0, 63.0, 80.0, 99.0, 120.0]\n",
      "leapfrog midpoint: [0.0, 3.0, 8.0, 15.0, 24.0, 35.0, 48.0, 63.0, 80.0, 99.0, 120.0]\n",
      "leapfrog euler: [0.0, 0.0, 8.0, 12.0, 24.0, 32.0, 48.0, 60.0, 80.0, 96.0, 120.0]\n",
      "leapfrog constant: [0.0, 0.0, 8.0, 12.0, 24.0, 32.0, 48.0, 60.0, 80.0, 96.0, 120.0]\n",
      "trapazoidal True: [0.0, 1.0, 4.0, 9.0, 16.0, 25.0, 36.0, 49.0, 64.0, 81.0, 100.0]\n",
      "trapazoidal False: [0.0, 1.0, 4.0, 9.0, 16.0, 25.0, 36.0, 49.0, 64.0, 81.0, 100.0]\n",
      "backward_euler: [0.0, 2.0, 6.0, 12.0, 20.0, 30.0, 42.0, 56.0, 72.0, 90.0, 110.0]\n",
      "y_midpoint: [0.0, 3.0, 8.0, 15.0, 24.0, 35.0, 48.0, 63.0, 80.0, 99.0, 120.0]\n",
      "y_exact : [0.0, 1.0, 4.0, 9.0, 16.0, 25.0, 36.0, 49.0, 64.0, 81.0, 100.0]\n"
     ]
    }
   ],
   "source": [
    "# Test on y' = 2t, y0 = 0\n",
    "# Solution : y = t^2\n",
    "f = lambda t,y: 2*t\n",
    "t_eval = np.linspace(0.0, 10.0, 11)\n",
    "y0 = 0.0\n",
    "\n",
    "test_methods(f, t_eval, y0, lambda t: t**2)\n"
   ]
  },
  {
   "cell_type": "code",
   "execution_count": 35,
   "metadata": {},
   "outputs": [
    {
     "name": "stdout",
     "output_type": "stream",
     "text": [
      "euler: [1.0, 1.3, 1.69, 2.197, 2.8561, 3.71293, 4.826808999999999, 6.2748517, 8.157307209999999, 10.604499372999998, 13.7858491849]\n",
      "midpoint: [1.0, 1.3900000000000001, 1.9321000000000002, 2.685619, 3.7330104100000003, 5.1888844699000005, 7.212549413161, 10.025443684293792, 13.935366721168368, 19.37015974242403, 26.924522041969407]\n",
      "leapfrog midpoint: [1.0, 1.3900000000000001, 1.834, 2.4904, 3.32824, 4.487344, 6.020646399999999, 8.099731840000002, 10.880485503999997, 14.628023142399996, 19.657299389440006]\n",
      "leapfrog euler: [1.0, 1.3, 1.78, 2.368, 3.2008, 4.28848, 5.773887999999999, 7.752812800000003, 10.425575679999998, 14.008158207999998, 18.830470604800006]\n",
      "leapfrog constant: [1.0, 1.0, 1.6, 1.96, 2.7760000000000002, 3.6256000000000004, 4.951359999999999, 6.596416000000003, 8.909209599999999, 11.941941759999999, 16.074374656000003]\n",
      "trapazoidal True: [1.0, 1.345, 1.8090249999999999, 2.4331386249999998, 3.2725714506249997, 4.401608601090625, 5.920163568466889, 7.962619999587968, 10.709723899445816, 14.40457864475462, 19.37415827719497]\n",
      "trapazoidal False: [1.0, 1.352941176470588, 1.8304498269896192, 2.47649094239772, 3.350546569126327, 4.5330924170532665, 6.133007387777948, 8.297598230523107, 11.226162311884202, 15.188337245490388, 20.548926861545823]\n",
      "backward_euler: [1.0, 1.4285714285714286, 2.0408163265306123, 2.9154518950437316, 4.164931278633903, 5.949901826619861, 8.499859752314086, 12.142656789020126, 17.346652555743034, 24.780932222490044, 35.401331746414364]\n",
      "y_midpoint: [1.0, 1.352941176470588, 1.8304498269896192, 2.47649094239772, 3.350546569126327, 4.5330924170532665, 6.133007387777948, 8.297598230523107, 11.226162311884202, 15.188337245490388, 20.548926861545823]\n",
      "y_exact : [1.0, 1.3498588075760032, 1.8221188003905089, 2.4596031111569494, 3.3201169227365472, 4.4816890703380645, 6.049647464412945, 8.166169912567652, 11.023176380641601, 14.87973172487283, 20.085536923187668]\n"
     ]
    }
   ],
   "source": [
    "# Test on y' = y, y0 = 1.0\n",
    "# Solution : y = exp(t) \n",
    "f = lambda t,y: y\n",
    "t_eval = np.linspace(0.0, 3.0, 11)\n",
    "y0 = 1.0\n",
    "\n",
    "test_methods(f, t_eval, y0, lambda t: math.exp(t))\n"
   ]
  },
  {
   "cell_type": "code",
   "execution_count": null,
   "metadata": {},
   "outputs": [],
   "source": []
  }
 ],
 "metadata": {
  "kernelspec": {
   "display_name": "base",
   "language": "python",
   "name": "python3"
  },
  "language_info": {
   "codemirror_mode": {
    "name": "ipython",
    "version": 3
   },
   "file_extension": ".py",
   "mimetype": "text/x-python",
   "name": "python",
   "nbconvert_exporter": "python",
   "pygments_lexer": "ipython3",
   "version": "3.11.5"
  }
 },
 "nbformat": 4,
 "nbformat_minor": 2
}
